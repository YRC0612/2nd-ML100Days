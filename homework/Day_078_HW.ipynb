{
 "cells": [
  {
   "cell_type": "markdown",
   "metadata": {},
   "source": [
    "## Work\n",
    "1. 請嘗試將 preproc_x 替換成以每筆資料的 min/max 進行標準化至 -1 ~ 1 間，再進行訓練\n",
    "2. 請嘗試將 mlp 疊更深 (e.g 5~10 層)，進行訓練後觀察 learning curve 的走勢\n",
    "3. (optional) 請改用 GPU 進行訓練 (如果你有 GPU 的話)，比較使用 CPU 與 GPU 的訓練速度"
   ]
  },
  {
   "cell_type": "code",
   "execution_count": 1,
   "metadata": {},
   "outputs": [
    {
     "data": {
      "text/plain": [
       "'\\nYour code here (optional)\\n確認硬體資源\\n'"
      ]
     },
     "execution_count": 1,
     "metadata": {},
     "output_type": "execute_result"
    }
   ],
   "source": [
    "## \n",
    "\"\"\"\n",
    "Your code here (optional)\n",
    "確認硬體資源\n",
    "\"\"\"\n",
    "#!nvidia-smi.exe -l"
   ]
  },
  {
   "cell_type": "code",
   "execution_count": 2,
   "metadata": {},
   "outputs": [
    {
     "name": "stderr",
     "output_type": "stream",
     "text": [
      "Using TensorFlow backend.\n"
     ]
    }
   ],
   "source": [
    "import os\n",
    "import keras\n",
    "\n",
    "# 請嘗試設定 GPU：os.environ\n",
    "os.environ[\"CUDA_VISIBLE_DEVICES\"] = \"0\""
   ]
  },
  {
   "cell_type": "code",
   "execution_count": 3,
   "metadata": {},
   "outputs": [],
   "source": [
    "train, test = keras.datasets.cifar10.load_data()"
   ]
  },
  {
   "cell_type": "code",
   "execution_count": 4,
   "metadata": {},
   "outputs": [],
   "source": [
    "## 資料前處理\n",
    "\n",
    "def preproc_x(x, flatten=True):\n",
    "    x = (x/255 - 0.5)*2\n",
    "    if flatten:\n",
    "        x = x.reshape((len(x), -1))\n",
    "    return x\n",
    "\n",
    "def preproc_y(y, num_classes=10):\n",
    "    if y.shape[-1] == 1:\n",
    "        y = keras.utils.to_categorical(y, num_classes)\n",
    "    return y"
   ]
  },
  {
   "cell_type": "code",
   "execution_count": 5,
   "metadata": {},
   "outputs": [
    {
     "name": "stdout",
     "output_type": "stream",
     "text": [
      "x_train.shape:  (50000, 32, 32, 3)\n",
      "y_train.shape:  (50000, 1)\n",
      "x_test.shape:  (10000, 32, 32, 3)\n",
      "y_test.shape:  (10000, 1)\n",
      "\n",
      "x_train.shape:  (50000, 3072)\n",
      "y_train.shape:  (50000, 10)\n",
      "x_test.shape:  (10000, 3072)\n",
      "y_test.shape:  (10000, 10)\n"
     ]
    }
   ],
   "source": [
    "x_train, y_train = train\n",
    "x_test, y_test = test\n",
    "\n",
    "print(\"x_train.shape: \", x_train.shape)\n",
    "print(\"y_train.shape: \", y_train.shape)\n",
    "print(\"x_test.shape: \", x_test.shape)\n",
    "print(\"y_test.shape: \", y_test.shape)\n",
    "\n",
    "# Preproc the inputs\n",
    "x_train = preproc_x(x_train)\n",
    "x_test = preproc_x(x_test)\n",
    "\n",
    "# Preprc the outputs\n",
    "y_train = preproc_y(y_train)\n",
    "y_test = preproc_y(y_test)\n",
    "\n",
    "print(\"\")\n",
    "print(\"x_train.shape: \", x_train.shape)\n",
    "print(\"y_train.shape: \", y_train.shape)\n",
    "print(\"x_test.shape: \", x_test.shape)\n",
    "print(\"y_test.shape: \", y_test.shape)"
   ]
  },
  {
   "cell_type": "code",
   "execution_count": 6,
   "metadata": {},
   "outputs": [
    {
     "name": "stderr",
     "output_type": "stream",
     "text": [
      "WARNING: Logging before flag parsing goes to stderr.\n",
      "W0716 14:30:30.344868 15604 deprecation_wrapper.py:119] From D:\\Anaconda3\\envs\\keras37\\lib\\site-packages\\keras\\backend\\tensorflow_backend.py:74: The name tf.get_default_graph is deprecated. Please use tf.compat.v1.get_default_graph instead.\n",
      "\n",
      "W0716 14:30:30.354874 15604 deprecation_wrapper.py:119] From D:\\Anaconda3\\envs\\keras37\\lib\\site-packages\\keras\\backend\\tensorflow_backend.py:517: The name tf.placeholder is deprecated. Please use tf.compat.v1.placeholder instead.\n",
      "\n",
      "W0716 14:30:30.356840 15604 deprecation_wrapper.py:119] From D:\\Anaconda3\\envs\\keras37\\lib\\site-packages\\keras\\backend\\tensorflow_backend.py:4138: The name tf.random_uniform is deprecated. Please use tf.random.uniform instead.\n",
      "\n"
     ]
    },
    {
     "name": "stdout",
     "output_type": "stream",
     "text": [
      "_________________________________________________________________\n",
      "Layer (type)                 Output Shape              Param #   \n",
      "=================================================================\n",
      "input_1 (InputLayer)         (None, 3072)              0         \n",
      "_________________________________________________________________\n",
      "hidden_layer1 (Dense)        (None, 512)               1573376   \n",
      "_________________________________________________________________\n",
      "hidden_layer2 (Dense)        (None, 256)               131328    \n",
      "_________________________________________________________________\n",
      "hidden_layer3 (Dense)        (None, 128)               32896     \n",
      "_________________________________________________________________\n",
      "hidden_layer4 (Dense)        (None, 64)                8256      \n",
      "_________________________________________________________________\n",
      "hidden_layer5 (Dense)        (None, 32)                2080      \n",
      "_________________________________________________________________\n",
      "hidden_layer6 (Dense)        (None, 16)                528       \n",
      "_________________________________________________________________\n",
      "output (Dense)               (None, 10)                170       \n",
      "=================================================================\n",
      "Total params: 1,748,634\n",
      "Trainable params: 1,748,634\n",
      "Non-trainable params: 0\n",
      "_________________________________________________________________\n"
     ]
    }
   ],
   "source": [
    "\"\"\"Code Here\n",
    "建立你的神經網路\n",
    "\"\"\"\n",
    "def build_mlp(input_shape, output_units=10, num_neurons=[512, 256, 128, 64, 32, 16]):\n",
    "    input_layer = keras.layers.Input(input_shape)\n",
    "    \n",
    "    for i, n_units in enumerate(num_neurons):\n",
    "        if i == 0:\n",
    "            x = keras.layers.Dense(units=n_units, activation=\"relu\", name=\"hidden_layer\"+str(i+1))(input_layer)\n",
    "        else:\n",
    "            x = keras.layers.Dense(units=n_units, activation=\"relu\", name=\"hidden_layer\"+str(i+1))(x)\n",
    "    \n",
    "    out = keras.layers.Dense(units=output_units, activation=\"softmax\", name=\"output\")(x)\n",
    "    \n",
    "    model = keras.models.Model(inputs=[input_layer], outputs=[out])\n",
    "    return model\n",
    "\n",
    "\n",
    "\n",
    "model = build_mlp(input_shape=x_train.shape[1:])\n",
    "model.summary()"
   ]
  },
  {
   "cell_type": "code",
   "execution_count": 7,
   "metadata": {},
   "outputs": [],
   "source": [
    "## 超參數設定\n",
    "LEARNING_RATE = 0.001\n",
    "EPOCHS = 100\n",
    "BATCH_SIZE = 256"
   ]
  },
  {
   "cell_type": "code",
   "execution_count": 8,
   "metadata": {},
   "outputs": [
    {
     "name": "stderr",
     "output_type": "stream",
     "text": [
      "W0716 14:30:30.418097 15604 deprecation_wrapper.py:119] From D:\\Anaconda3\\envs\\keras37\\lib\\site-packages\\keras\\optimizers.py:790: The name tf.train.Optimizer is deprecated. Please use tf.compat.v1.train.Optimizer instead.\n",
      "\n",
      "W0716 14:30:30.422088 15604 deprecation_wrapper.py:119] From D:\\Anaconda3\\envs\\keras37\\lib\\site-packages\\keras\\backend\\tensorflow_backend.py:3295: The name tf.log is deprecated. Please use tf.math.log instead.\n",
      "\n"
     ]
    }
   ],
   "source": [
    "optimizer = keras.optimizers.Adam(lr=LEARNING_RATE)\n",
    "model.compile(loss=\"categorical_crossentropy\", metrics=[\"accuracy\"], optimizer=optimizer)"
   ]
  },
  {
   "cell_type": "code",
   "execution_count": 9,
   "metadata": {},
   "outputs": [
    {
     "name": "stderr",
     "output_type": "stream",
     "text": [
      "W0716 14:30:30.476943 15604 deprecation.py:323] From D:\\Anaconda3\\envs\\keras37\\lib\\site-packages\\tensorflow\\python\\ops\\math_grad.py:1250: add_dispatch_support.<locals>.wrapper (from tensorflow.python.ops.array_ops) is deprecated and will be removed in a future version.\n",
      "Instructions for updating:\n",
      "Use tf.where in 2.0, which has the same broadcast rule as np.where\n",
      "W0716 14:30:30.513841 15604 deprecation_wrapper.py:119] From D:\\Anaconda3\\envs\\keras37\\lib\\site-packages\\keras\\backend\\tensorflow_backend.py:986: The name tf.assign_add is deprecated. Please use tf.compat.v1.assign_add instead.\n",
      "\n"
     ]
    },
    {
     "name": "stdout",
     "output_type": "stream",
     "text": [
      "Train on 50000 samples, validate on 10000 samples\n",
      "Epoch 1/100\n",
      "50000/50000 [==============================] - 3s 64us/step - loss: 1.7882 - acc: 0.3672 - val_loss: 1.6110 - val_acc: 0.4325\n",
      "Epoch 2/100\n",
      "50000/50000 [==============================] - 2s 37us/step - loss: 1.5269 - acc: 0.4631 - val_loss: 1.4720 - val_acc: 0.4843\n",
      "Epoch 3/100\n",
      "50000/50000 [==============================] - 2s 37us/step - loss: 1.4035 - acc: 0.5031 - val_loss: 1.4246 - val_acc: 0.4917\n",
      "Epoch 4/100\n",
      "50000/50000 [==============================] - 2s 37us/step - loss: 1.3088 - acc: 0.5392 - val_loss: 1.4076 - val_acc: 0.5087\n",
      "Epoch 5/100\n",
      "50000/50000 [==============================] - 2s 37us/step - loss: 1.2320 - acc: 0.5666 - val_loss: 1.3843 - val_acc: 0.5217\n",
      "Epoch 6/100\n",
      "50000/50000 [==============================] - 2s 37us/step - loss: 1.1453 - acc: 0.5958 - val_loss: 1.3883 - val_acc: 0.5245\n",
      "Epoch 7/100\n",
      "50000/50000 [==============================] - 2s 37us/step - loss: 1.0789 - acc: 0.6197 - val_loss: 1.3926 - val_acc: 0.5203\n",
      "Epoch 8/100\n",
      "50000/50000 [==============================] - 2s 37us/step - loss: 1.0108 - acc: 0.6429 - val_loss: 1.4231 - val_acc: 0.5323\n",
      "Epoch 9/100\n",
      "50000/50000 [==============================] - 2s 37us/step - loss: 0.9390 - acc: 0.6663 - val_loss: 1.4236 - val_acc: 0.5298\n",
      "Epoch 10/100\n",
      "50000/50000 [==============================] - 2s 37us/step - loss: 0.8732 - acc: 0.6906 - val_loss: 1.4621 - val_acc: 0.5335\n",
      "Epoch 11/100\n",
      "50000/50000 [==============================] - 2s 37us/step - loss: 0.8191 - acc: 0.7099 - val_loss: 1.4651 - val_acc: 0.5330\n",
      "Epoch 12/100\n",
      "50000/50000 [==============================] - 2s 37us/step - loss: 0.7476 - acc: 0.7363 - val_loss: 1.5024 - val_acc: 0.5394\n",
      "Epoch 13/100\n",
      "50000/50000 [==============================] - 2s 37us/step - loss: 0.6922 - acc: 0.7550 - val_loss: 1.6049 - val_acc: 0.5342\n",
      "Epoch 14/100\n",
      "50000/50000 [==============================] - 2s 37us/step - loss: 0.6311 - acc: 0.7779 - val_loss: 1.5897 - val_acc: 0.5351\n",
      "Epoch 15/100\n",
      "50000/50000 [==============================] - 2s 37us/step - loss: 0.5852 - acc: 0.7948 - val_loss: 1.7112 - val_acc: 0.5370\n",
      "Epoch 16/100\n",
      "50000/50000 [==============================] - 2s 37us/step - loss: 0.5390 - acc: 0.8107 - val_loss: 1.7379 - val_acc: 0.5295\n",
      "Epoch 17/100\n",
      "50000/50000 [==============================] - 2s 37us/step - loss: 0.4971 - acc: 0.8264 - val_loss: 1.8550 - val_acc: 0.5282\n",
      "Epoch 18/100\n",
      "50000/50000 [==============================] - 2s 37us/step - loss: 0.4632 - acc: 0.8397 - val_loss: 1.9081 - val_acc: 0.5250\n",
      "Epoch 19/100\n",
      "50000/50000 [==============================] - 2s 37us/step - loss: 0.4290 - acc: 0.8506 - val_loss: 2.0982 - val_acc: 0.5314\n",
      "Epoch 20/100\n",
      "50000/50000 [==============================] - 2s 37us/step - loss: 0.4048 - acc: 0.8584 - val_loss: 2.1091 - val_acc: 0.5329\n",
      "Epoch 21/100\n",
      "50000/50000 [==============================] - 2s 37us/step - loss: 0.3521 - acc: 0.8782 - val_loss: 2.2391 - val_acc: 0.5277\n",
      "Epoch 22/100\n",
      "50000/50000 [==============================] - 2s 36us/step - loss: 0.3395 - acc: 0.8813 - val_loss: 2.1805 - val_acc: 0.5399\n",
      "Epoch 23/100\n",
      "50000/50000 [==============================] - 2s 36us/step - loss: 0.3182 - acc: 0.8894 - val_loss: 2.4079 - val_acc: 0.5330\n",
      "Epoch 24/100\n",
      "50000/50000 [==============================] - 2s 36us/step - loss: 0.2827 - acc: 0.9028 - val_loss: 2.3510 - val_acc: 0.5274\n",
      "Epoch 25/100\n",
      "50000/50000 [==============================] - 2s 37us/step - loss: 0.2793 - acc: 0.9037 - val_loss: 2.4685 - val_acc: 0.5305\n",
      "Epoch 26/100\n",
      "50000/50000 [==============================] - 2s 37us/step - loss: 0.2700 - acc: 0.9071 - val_loss: 2.5785 - val_acc: 0.5288\n",
      "Epoch 27/100\n",
      "50000/50000 [==============================] - 2s 37us/step - loss: 0.2462 - acc: 0.9147 - val_loss: 2.6451 - val_acc: 0.5338\n",
      "Epoch 28/100\n",
      "50000/50000 [==============================] - 2s 37us/step - loss: 0.2480 - acc: 0.9148 - val_loss: 2.6888 - val_acc: 0.5253\n",
      "Epoch 29/100\n",
      "50000/50000 [==============================] - 2s 36us/step - loss: 0.2217 - acc: 0.9239 - val_loss: 2.7015 - val_acc: 0.5247\n",
      "Epoch 30/100\n",
      "50000/50000 [==============================] - 2s 37us/step - loss: 0.2164 - acc: 0.9262 - val_loss: 2.7954 - val_acc: 0.5281\n",
      "Epoch 31/100\n",
      "50000/50000 [==============================] - 2s 36us/step - loss: 0.2076 - acc: 0.9293 - val_loss: 2.9254 - val_acc: 0.5216\n",
      "Epoch 32/100\n",
      "50000/50000 [==============================] - 2s 37us/step - loss: 0.2066 - acc: 0.9288 - val_loss: 2.8791 - val_acc: 0.5249\n",
      "Epoch 33/100\n",
      "50000/50000 [==============================] - 2s 36us/step - loss: 0.1993 - acc: 0.9313 - val_loss: 2.9387 - val_acc: 0.5323\n",
      "Epoch 34/100\n",
      "50000/50000 [==============================] - 2s 36us/step - loss: 0.1880 - acc: 0.9354 - val_loss: 2.9719 - val_acc: 0.5203\n",
      "Epoch 35/100\n",
      "50000/50000 [==============================] - 2s 37us/step - loss: 0.1767 - acc: 0.9407 - val_loss: 3.0621 - val_acc: 0.5294\n",
      "Epoch 36/100\n",
      "50000/50000 [==============================] - 2s 38us/step - loss: 0.1680 - acc: 0.9420 - val_loss: 3.0705 - val_acc: 0.5299\n",
      "Epoch 37/100\n",
      "50000/50000 [==============================] - 2s 37us/step - loss: 0.1608 - acc: 0.9456 - val_loss: 3.0870 - val_acc: 0.5270\n",
      "Epoch 38/100\n",
      "50000/50000 [==============================] - 2s 37us/step - loss: 0.1718 - acc: 0.9418 - val_loss: 3.2169 - val_acc: 0.5252\n",
      "Epoch 39/100\n",
      "50000/50000 [==============================] - 2s 37us/step - loss: 0.1450 - acc: 0.9506 - val_loss: 3.1570 - val_acc: 0.5318\n",
      "Epoch 40/100\n",
      "50000/50000 [==============================] - 2s 37us/step - loss: 0.1460 - acc: 0.9511 - val_loss: 3.2779 - val_acc: 0.5284\n",
      "Epoch 41/100\n",
      "50000/50000 [==============================] - 2s 37us/step - loss: 0.1564 - acc: 0.9484 - val_loss: 3.1932 - val_acc: 0.5257\n",
      "Epoch 42/100\n",
      "50000/50000 [==============================] - 2s 38us/step - loss: 0.1620 - acc: 0.9460 - val_loss: 3.2309 - val_acc: 0.5278\n",
      "Epoch 43/100\n",
      "50000/50000 [==============================] - 2s 37us/step - loss: 0.1241 - acc: 0.9577 - val_loss: 3.3382 - val_acc: 0.5234\n",
      "Epoch 44/100\n",
      "50000/50000 [==============================] - 2s 38us/step - loss: 0.1481 - acc: 0.9509 - val_loss: 3.2587 - val_acc: 0.5286\n",
      "Epoch 45/100\n",
      "50000/50000 [==============================] - 2s 37us/step - loss: 0.1358 - acc: 0.9543 - val_loss: 3.3094 - val_acc: 0.5310\n",
      "Epoch 46/100\n",
      "50000/50000 [==============================] - 2s 38us/step - loss: 0.1266 - acc: 0.9564 - val_loss: 3.4002 - val_acc: 0.5312\n",
      "Epoch 47/100\n",
      "50000/50000 [==============================] - 2s 37us/step - loss: 0.1139 - acc: 0.9634 - val_loss: 3.4172 - val_acc: 0.5256\n",
      "Epoch 48/100\n",
      "50000/50000 [==============================] - 2s 38us/step - loss: 0.1434 - acc: 0.9520 - val_loss: 3.3642 - val_acc: 0.5245\n",
      "Epoch 49/100\n",
      "50000/50000 [==============================] - 2s 37us/step - loss: 0.1094 - acc: 0.9641 - val_loss: 3.4688 - val_acc: 0.5358\n",
      "Epoch 50/100\n",
      "50000/50000 [==============================] - 2s 36us/step - loss: 0.1116 - acc: 0.9630 - val_loss: 3.4565 - val_acc: 0.5297\n",
      "Epoch 51/100\n",
      "50000/50000 [==============================] - 2s 36us/step - loss: 0.1145 - acc: 0.9621 - val_loss: 3.4002 - val_acc: 0.5312\n",
      "Epoch 52/100\n",
      "50000/50000 [==============================] - 2s 36us/step - loss: 0.1252 - acc: 0.9577 - val_loss: 3.4586 - val_acc: 0.5234\n",
      "Epoch 53/100\n",
      "50000/50000 [==============================] - 2s 36us/step - loss: 0.1038 - acc: 0.9655 - val_loss: 3.5174 - val_acc: 0.5295\n",
      "Epoch 54/100\n",
      "50000/50000 [==============================] - 2s 38us/step - loss: 0.1202 - acc: 0.9613 - val_loss: 3.4855 - val_acc: 0.5257\n",
      "Epoch 55/100\n",
      "50000/50000 [==============================] - 2s 40us/step - loss: 0.1095 - acc: 0.9633 - val_loss: 3.5428 - val_acc: 0.5276\n",
      "Epoch 56/100\n",
      "50000/50000 [==============================] - 2s 37us/step - loss: 0.1136 - acc: 0.9611 - val_loss: 3.4952 - val_acc: 0.5337\n",
      "Epoch 57/100\n",
      "50000/50000 [==============================] - 2s 37us/step - loss: 0.1130 - acc: 0.9623 - val_loss: 3.5318 - val_acc: 0.5265\n",
      "Epoch 58/100\n",
      "50000/50000 [==============================] - 2s 37us/step - loss: 0.1007 - acc: 0.9667 - val_loss: 3.5720 - val_acc: 0.5328\n",
      "Epoch 59/100\n"
     ]
    },
    {
     "name": "stdout",
     "output_type": "stream",
     "text": [
      "50000/50000 [==============================] - 2s 37us/step - loss: 0.0932 - acc: 0.9693 - val_loss: 3.5902 - val_acc: 0.5327\n",
      "Epoch 60/100\n",
      "50000/50000 [==============================] - 2s 37us/step - loss: 0.0992 - acc: 0.9669 - val_loss: 3.6871 - val_acc: 0.5309\n",
      "Epoch 61/100\n",
      "50000/50000 [==============================] - 2s 37us/step - loss: 0.1002 - acc: 0.9660 - val_loss: 3.6113 - val_acc: 0.5308\n",
      "Epoch 62/100\n",
      "50000/50000 [==============================] - 2s 37us/step - loss: 0.1099 - acc: 0.9637 - val_loss: 3.5361 - val_acc: 0.5263\n",
      "Epoch 63/100\n",
      "50000/50000 [==============================] - 2s 37us/step - loss: 0.1010 - acc: 0.9680 - val_loss: 3.5977 - val_acc: 0.5288\n",
      "Epoch 64/100\n",
      "50000/50000 [==============================] - 2s 37us/step - loss: 0.1029 - acc: 0.9664 - val_loss: 3.6066 - val_acc: 0.5260\n",
      "Epoch 65/100\n",
      "50000/50000 [==============================] - 2s 36us/step - loss: 0.0835 - acc: 0.9727 - val_loss: 3.6627 - val_acc: 0.5377\n",
      "Epoch 66/100\n",
      "50000/50000 [==============================] - 2s 36us/step - loss: 0.0902 - acc: 0.9706 - val_loss: 3.5858 - val_acc: 0.5346\n",
      "Epoch 67/100\n",
      "50000/50000 [==============================] - 2s 36us/step - loss: 0.1008 - acc: 0.9666 - val_loss: 3.6152 - val_acc: 0.5252\n",
      "Epoch 68/100\n",
      "50000/50000 [==============================] - 2s 37us/step - loss: 0.0743 - acc: 0.9757 - val_loss: 3.6975 - val_acc: 0.5341\n",
      "Epoch 69/100\n",
      "50000/50000 [==============================] - 2s 36us/step - loss: 0.0962 - acc: 0.9688 - val_loss: 3.6780 - val_acc: 0.5209\n",
      "Epoch 70/100\n",
      "50000/50000 [==============================] - 2s 36us/step - loss: 0.0854 - acc: 0.9719 - val_loss: 3.8182 - val_acc: 0.5238\n",
      "Epoch 71/100\n",
      "50000/50000 [==============================] - 2s 36us/step - loss: 0.1032 - acc: 0.9664 - val_loss: 3.7971 - val_acc: 0.5228\n",
      "Epoch 72/100\n",
      "50000/50000 [==============================] - 2s 36us/step - loss: 0.0763 - acc: 0.9747 - val_loss: 3.7102 - val_acc: 0.5212\n",
      "Epoch 73/100\n",
      "50000/50000 [==============================] - 2s 36us/step - loss: 0.0800 - acc: 0.9735 - val_loss: 3.8862 - val_acc: 0.5279\n",
      "Epoch 74/100\n",
      "50000/50000 [==============================] - 2s 36us/step - loss: 0.0858 - acc: 0.9725 - val_loss: 3.8063 - val_acc: 0.5355\n",
      "Epoch 75/100\n",
      "50000/50000 [==============================] - 2s 36us/step - loss: 0.0877 - acc: 0.9722 - val_loss: 3.8717 - val_acc: 0.5236\n",
      "Epoch 76/100\n",
      "50000/50000 [==============================] - 2s 36us/step - loss: 0.0906 - acc: 0.9705 - val_loss: 3.8027 - val_acc: 0.5258\n",
      "Epoch 77/100\n",
      "50000/50000 [==============================] - 2s 36us/step - loss: 0.0707 - acc: 0.9770 - val_loss: 3.8483 - val_acc: 0.5294\n",
      "Epoch 78/100\n",
      "50000/50000 [==============================] - 2s 36us/step - loss: 0.0832 - acc: 0.9726 - val_loss: 3.8631 - val_acc: 0.5273\n",
      "Epoch 79/100\n",
      "50000/50000 [==============================] - 2s 37us/step - loss: 0.0786 - acc: 0.9750 - val_loss: 3.8715 - val_acc: 0.5263\n",
      "Epoch 80/100\n",
      "50000/50000 [==============================] - 2s 37us/step - loss: 0.0814 - acc: 0.9729 - val_loss: 3.9073 - val_acc: 0.5292\n",
      "Epoch 81/100\n",
      "50000/50000 [==============================] - 2s 37us/step - loss: 0.0817 - acc: 0.9745 - val_loss: 3.7898 - val_acc: 0.5220\n",
      "Epoch 82/100\n",
      "50000/50000 [==============================] - 2s 37us/step - loss: 0.0691 - acc: 0.9769 - val_loss: 3.8522 - val_acc: 0.5290\n",
      "Epoch 83/100\n",
      "50000/50000 [==============================] - 2s 37us/step - loss: 0.0923 - acc: 0.9701 - val_loss: 3.8211 - val_acc: 0.5293\n",
      "Epoch 84/100\n",
      "50000/50000 [==============================] - 2s 37us/step - loss: 0.0681 - acc: 0.9774 - val_loss: 3.8790 - val_acc: 0.5232\n",
      "Epoch 85/100\n",
      "50000/50000 [==============================] - 2s 37us/step - loss: 0.0605 - acc: 0.9809 - val_loss: 3.7990 - val_acc: 0.5245\n",
      "Epoch 86/100\n",
      "50000/50000 [==============================] - 2s 37us/step - loss: 0.0710 - acc: 0.9768 - val_loss: 3.8960 - val_acc: 0.5234\n",
      "Epoch 87/100\n",
      "50000/50000 [==============================] - 2s 37us/step - loss: 0.0831 - acc: 0.9733 - val_loss: 3.7546 - val_acc: 0.5276\n",
      "Epoch 88/100\n",
      "50000/50000 [==============================] - 2s 38us/step - loss: 0.0830 - acc: 0.9727 - val_loss: 3.8614 - val_acc: 0.5302\n",
      "Epoch 89/100\n",
      "50000/50000 [==============================] - 2s 37us/step - loss: 0.0831 - acc: 0.9720 - val_loss: 3.8105 - val_acc: 0.5306\n",
      "Epoch 90/100\n",
      "50000/50000 [==============================] - 2s 37us/step - loss: 0.0576 - acc: 0.9819 - val_loss: 3.8804 - val_acc: 0.5345\n",
      "Epoch 91/100\n",
      "50000/50000 [==============================] - 2s 37us/step - loss: 0.0515 - acc: 0.9837 - val_loss: 3.8452 - val_acc: 0.5237\n",
      "Epoch 92/100\n",
      "50000/50000 [==============================] - 2s 37us/step - loss: 0.0802 - acc: 0.9748 - val_loss: 3.9361 - val_acc: 0.5219\n",
      "Epoch 93/100\n",
      "50000/50000 [==============================] - 2s 37us/step - loss: 0.0667 - acc: 0.9784 - val_loss: 3.9823 - val_acc: 0.5258\n",
      "Epoch 94/100\n",
      "50000/50000 [==============================] - 2s 37us/step - loss: 0.0737 - acc: 0.9767 - val_loss: 3.8511 - val_acc: 0.5234\n",
      "Epoch 95/100\n",
      "50000/50000 [==============================] - 2s 37us/step - loss: 0.0600 - acc: 0.9815 - val_loss: 3.8962 - val_acc: 0.5327\n",
      "Epoch 96/100\n",
      "50000/50000 [==============================] - 2s 37us/step - loss: 0.0668 - acc: 0.9784 - val_loss: 3.8981 - val_acc: 0.5266\n",
      "Epoch 97/100\n",
      "50000/50000 [==============================] - 2s 37us/step - loss: 0.0612 - acc: 0.9807 - val_loss: 3.8759 - val_acc: 0.5266\n",
      "Epoch 98/100\n",
      "50000/50000 [==============================] - 2s 37us/step - loss: 0.0695 - acc: 0.9777 - val_loss: 3.9459 - val_acc: 0.5232\n",
      "Epoch 99/100\n",
      "50000/50000 [==============================] - 2s 37us/step - loss: 0.0652 - acc: 0.9788 - val_loss: 3.8611 - val_acc: 0.5258\n",
      "Epoch 100/100\n",
      "50000/50000 [==============================] - 2s 37us/step - loss: 0.0609 - acc: 0.9803 - val_loss: 3.9079 - val_acc: 0.5322\n"
     ]
    },
    {
     "data": {
      "text/plain": [
       "<keras.callbacks.History at 0x22330a9a240>"
      ]
     },
     "execution_count": 9,
     "metadata": {},
     "output_type": "execute_result"
    }
   ],
   "source": [
    "model.fit(x_train, y_train, \n",
    "          epochs=EPOCHS, \n",
    "          batch_size=BATCH_SIZE, \n",
    "          validation_data=(x_test, y_test), \n",
    "          shuffle=True)"
   ]
  },
  {
   "cell_type": "code",
   "execution_count": 11,
   "metadata": {},
   "outputs": [
    {
     "data": {
      "image/png": "[encoded data removed]",
      "text/plain": [
       "<Figure size 432x288 with 1 Axes>"
      ]
     },
     "metadata": {
      "needs_background": "light"
     },
     "output_type": "display_data"
    },
    {
     "data": {
      "image/png": "[encoded data removed]",
      "text/plain": [
       "<Figure size 432x288 with 1 Axes>"
      ]
     },
     "metadata": {
      "needs_background": "light"
     },
     "output_type": "display_data"
    }
   ],
   "source": [
    "import matplotlib.pyplot as plt\n",
    "\n",
    "\n",
    "train_loss = model.history.history[\"loss\"]\n",
    "valid_loss = model.history.history[\"val_loss\"]\n",
    "\n",
    "train_acc = model.history.history[\"acc\"]\n",
    "valid_acc = model.history.history[\"val_acc\"]\n",
    "\n",
    "plt.plot(range(len(train_loss)), train_loss, label=\"train loss\")\n",
    "plt.plot(range(len(valid_loss)), valid_loss, label=\"valid loss\")\n",
    "plt.legend()\n",
    "plt.title(\"Loss\")\n",
    "plt.show()\n",
    "\n",
    "plt.plot(range(len(train_acc)), train_acc, label=\"train accuracy\")\n",
    "plt.plot(range(len(valid_acc)), valid_acc, label=\"valid accuracy\")\n",
    "plt.legend()\n",
    "plt.title(\"Accuracy\")\n",
    "plt.show()"
   ]
  },
  {
   "cell_type": "markdown",
   "metadata": {},
   "source": [
    "## 結果討論\n",
    "\n",
    "1. 以training data來看，當hidden layer較多時，loss下降較快，同時，accuracy也上升較快\n",
    "2. 以valid data來看，當hidden layer較多時，loss上升變快，因為有overfitting"
   ]
  },
  {
   "cell_type": "code",
   "execution_count": null,
   "metadata": {},
   "outputs": [],
   "source": []
  }
 ],
 "metadata": {
  "kernelspec": {
   "display_name": "Python 3",
   "language": "python",
   "name": "python3"
  },
  "language_info": {
   "codemirror_mode": {
    "name": "ipython",
    "version": 3
   },
   "file_extension": ".py",
   "mimetype": "text/x-python",
   "name": "python",
   "nbconvert_exporter": "python",
   "pygments_lexer": "ipython3",
   "version": "3.7.3"
  }
 },
 "nbformat": 4,
 "nbformat_minor": 2
}
