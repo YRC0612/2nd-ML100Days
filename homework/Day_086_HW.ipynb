{
 "cells": [
  {
   "cell_type": "markdown",
   "metadata": {},
   "source": [
    "## Work\n",
    "1. 試比較 save_best_only 與否的差異\n",
    "2. 請僅存入將 save_weights_only 設定為 True, 並嘗試 reset ipynb 並將模型與權重重新建回並預測 x_test"
   ]
  },
  {
   "cell_type": "code",
   "execution_count": 1,
   "metadata": {},
   "outputs": [
    {
     "name": "stderr",
     "output_type": "stream",
     "text": [
      "Using TensorFlow backend.\n"
     ]
    }
   ],
   "source": [
    "import os\n",
    "import keras\n",
    "from keras.layers import BatchNormalization\n",
    "from keras.callbacks import ModelCheckpoint\n",
    "\n",
    "os.environ[\"CUDA_VISIBLE_DEVICES\"] = \"0\""
   ]
  },
  {
   "cell_type": "code",
   "execution_count": 2,
   "metadata": {},
   "outputs": [],
   "source": [
    "train, test = keras.datasets.cifar10.load_data()"
   ]
  },
  {
   "cell_type": "code",
   "execution_count": 3,
   "metadata": {},
   "outputs": [],
   "source": [
    "## 資料前處理\n",
    "def preproc_x(x, flatten=True):\n",
    "    x = x / 255.\n",
    "    if flatten:\n",
    "        x = x.reshape((len(x), -1))\n",
    "    return x\n",
    "\n",
    "def preproc_y(y, num_classes=10):\n",
    "    if y.shape[-1] == 1:\n",
    "        y = keras.utils.to_categorical(y, num_classes)\n",
    "    return y    "
   ]
  },
  {
   "cell_type": "code",
   "execution_count": 4,
   "metadata": {},
   "outputs": [],
   "source": [
    "x_train, y_train = train\n",
    "x_test, y_test = test\n",
    "\n",
    "# Preproc the inputs\n",
    "x_train = preproc_x(x_train)\n",
    "x_test = preproc_x(x_test)\n",
    "\n",
    "# Preprc the outputs\n",
    "y_train = preproc_y(y_train)\n",
    "y_test = preproc_y(y_test)"
   ]
  },
  {
   "cell_type": "code",
   "execution_count": 5,
   "metadata": {},
   "outputs": [],
   "source": [
    "\n",
    "def build_mlp(input_shape, output_units=10, num_neurons=[512, 256, 128]):\n",
    "    input_layer = keras.layers.Input(input_shape)\n",
    "    \n",
    "    for i, n_units in enumerate(num_neurons):\n",
    "        if i == 0:\n",
    "            x = keras.layers.Dense(units=n_units, \n",
    "                                   activation=\"relu\", \n",
    "                                   name=\"hidden_layer\"+str(i+1))(input_layer)\n",
    "            x = BatchNormalization()(x)\n",
    "        else:\n",
    "            x = keras.layers.Dense(units=n_units, \n",
    "                                   activation=\"relu\", \n",
    "                                   name=\"hidden_layer\"+str(i+1))(x)\n",
    "            x = BatchNormalization()(x)\n",
    "    \n",
    "    out = keras.layers.Dense(units=output_units, activation=\"softmax\", name=\"output\")(x)\n",
    "    \n",
    "    model = keras.models.Model(inputs=[input_layer], outputs=[out])\n",
    "    return model"
   ]
  },
  {
   "cell_type": "code",
   "execution_count": 6,
   "metadata": {},
   "outputs": [],
   "source": [
    "LEARNING_RATE = 1e-3\n",
    "EPOCHS = 50\n",
    "BATCH_SIZE = 1024\n",
    "MOMENTUM = 0.95"
   ]
  },
  {
   "cell_type": "code",
   "execution_count": 7,
   "metadata": {},
   "outputs": [
    {
     "name": "stderr",
     "output_type": "stream",
     "text": [
      "WARNING: Logging before flag parsing goes to stderr.\n",
      "W0726 22:06:44.791628 14976 deprecation_wrapper.py:119] From D:\\Anaconda3\\envs\\keras37\\lib\\site-packages\\keras\\backend\\tensorflow_backend.py:95: The name tf.reset_default_graph is deprecated. Please use tf.compat.v1.reset_default_graph instead.\n",
      "\n",
      "W0726 22:06:44.792602 14976 deprecation_wrapper.py:119] From D:\\Anaconda3\\envs\\keras37\\lib\\site-packages\\keras\\backend\\tensorflow_backend.py:98: The name tf.placeholder_with_default is deprecated. Please use tf.compat.v1.placeholder_with_default instead.\n",
      "\n",
      "W0726 22:06:44.803596 14976 deprecation_wrapper.py:119] From D:\\Anaconda3\\envs\\keras37\\lib\\site-packages\\keras\\backend\\tensorflow_backend.py:102: The name tf.get_default_graph is deprecated. Please use tf.compat.v1.get_default_graph instead.\n",
      "\n",
      "W0726 22:06:44.804574 14976 deprecation_wrapper.py:119] From D:\\Anaconda3\\envs\\keras37\\lib\\site-packages\\keras\\backend\\tensorflow_backend.py:517: The name tf.placeholder is deprecated. Please use tf.compat.v1.placeholder instead.\n",
      "\n",
      "W0726 22:06:44.805585 14976 deprecation_wrapper.py:119] From D:\\Anaconda3\\envs\\keras37\\lib\\site-packages\\keras\\backend\\tensorflow_backend.py:4138: The name tf.random_uniform is deprecated. Please use tf.random.uniform instead.\n",
      "\n",
      "W0726 22:06:44.959197 14976 deprecation_wrapper.py:119] From D:\\Anaconda3\\envs\\keras37\\lib\\site-packages\\keras\\optimizers.py:790: The name tf.train.Optimizer is deprecated. Please use tf.compat.v1.train.Optimizer instead.\n",
      "\n",
      "W0726 22:06:45.040971 14976 deprecation.py:323] From D:\\Anaconda3\\envs\\keras37\\lib\\site-packages\\tensorflow\\python\\ops\\math_grad.py:1250: add_dispatch_support.<locals>.wrapper (from tensorflow.python.ops.array_ops) is deprecated and will be removed in a future version.\n",
      "Instructions for updating:\n",
      "Use tf.where in 2.0, which has the same broadcast rule as np.where\n"
     ]
    },
    {
     "name": "stdout",
     "output_type": "stream",
     "text": [
      "_________________________________________________________________\n",
      "Layer (type)                 Output Shape              Param #   \n",
      "=================================================================\n",
      "input_1 (InputLayer)         (None, 3072)              0         \n",
      "_________________________________________________________________\n",
      "hidden_layer1 (Dense)        (None, 512)               1573376   \n",
      "_________________________________________________________________\n",
      "batch_normalization_1 (Batch (None, 512)               2048      \n",
      "_________________________________________________________________\n",
      "hidden_layer2 (Dense)        (None, 256)               131328    \n",
      "_________________________________________________________________\n",
      "batch_normalization_2 (Batch (None, 256)               1024      \n",
      "_________________________________________________________________\n",
      "hidden_layer3 (Dense)        (None, 128)               32896     \n",
      "_________________________________________________________________\n",
      "batch_normalization_3 (Batch (None, 128)               512       \n",
      "_________________________________________________________________\n",
      "output (Dense)               (None, 10)                1290      \n",
      "=================================================================\n",
      "Total params: 1,742,474\n",
      "Trainable params: 1,740,682\n",
      "Non-trainable params: 1,792\n",
      "_________________________________________________________________\n",
      "Train on 50000 samples, validate on 10000 samples\n",
      "Epoch 1/50\n",
      "50000/50000 [==============================] - 3s 55us/step - loss: 2.2176 - acc: 0.2631 - val_loss: 2.0547 - val_acc: 0.3236\n",
      "Epoch 2/50\n",
      "50000/50000 [==============================] - 1s 27us/step - loss: 1.7399 - acc: 0.3932 - val_loss: 1.7829 - val_acc: 0.3870\n",
      "Epoch 3/50\n",
      "50000/50000 [==============================] - 1s 26us/step - loss: 1.6184 - acc: 0.4343 - val_loss: 1.7119 - val_acc: 0.4037\n",
      "Epoch 4/50\n",
      "50000/50000 [==============================] - 1s 26us/step - loss: 1.5476 - acc: 0.4585 - val_loss: 1.6466 - val_acc: 0.4234\n",
      "Epoch 5/50\n",
      "50000/50000 [==============================] - 1s 27us/step - loss: 1.4951 - acc: 0.4777 - val_loss: 1.5886 - val_acc: 0.4439\n",
      "Epoch 6/50\n",
      "50000/50000 [==============================] - 1s 26us/step - loss: 1.4514 - acc: 0.4924 - val_loss: 1.5657 - val_acc: 0.4565\n",
      "Epoch 7/50\n",
      "50000/50000 [==============================] - 1s 27us/step - loss: 1.4136 - acc: 0.5067 - val_loss: 1.5427 - val_acc: 0.4586\n",
      "Epoch 8/50\n",
      "50000/50000 [==============================] - 1s 27us/step - loss: 1.3779 - acc: 0.5211 - val_loss: 1.5276 - val_acc: 0.4666\n",
      "Epoch 9/50\n",
      "50000/50000 [==============================] - 1s 27us/step - loss: 1.3468 - acc: 0.5309 - val_loss: 1.5156 - val_acc: 0.4675\n",
      "Epoch 10/50\n",
      "50000/50000 [==============================] - 1s 26us/step - loss: 1.3178 - acc: 0.5434 - val_loss: 1.4963 - val_acc: 0.4780\n",
      "Epoch 11/50\n",
      "50000/50000 [==============================] - 1s 26us/step - loss: 1.2893 - acc: 0.5532 - val_loss: 1.4915 - val_acc: 0.4769\n",
      "Epoch 12/50\n",
      "50000/50000 [==============================] - 1s 26us/step - loss: 1.2639 - acc: 0.5608 - val_loss: 1.4731 - val_acc: 0.4832\n",
      "Epoch 13/50\n",
      "50000/50000 [==============================] - 1s 27us/step - loss: 1.2374 - acc: 0.5714 - val_loss: 1.4660 - val_acc: 0.4829\n",
      "Epoch 14/50\n",
      "50000/50000 [==============================] - 1s 26us/step - loss: 1.2137 - acc: 0.5808 - val_loss: 1.4599 - val_acc: 0.4886\n",
      "Epoch 15/50\n",
      "50000/50000 [==============================] - 1s 26us/step - loss: 1.1906 - acc: 0.5890 - val_loss: 1.4638 - val_acc: 0.4862\n",
      "Epoch 16/50\n",
      "50000/50000 [==============================] - 1s 27us/step - loss: 1.1657 - acc: 0.5983 - val_loss: 1.4573 - val_acc: 0.4894\n",
      "Epoch 17/50\n",
      "50000/50000 [==============================] - 1s 26us/step - loss: 1.1445 - acc: 0.6053 - val_loss: 1.4512 - val_acc: 0.4925\n",
      "Epoch 18/50\n",
      "50000/50000 [==============================] - 1s 27us/step - loss: 1.1236 - acc: 0.6139 - val_loss: 1.4676 - val_acc: 0.4856\n",
      "Epoch 19/50\n",
      "50000/50000 [==============================] - 1s 26us/step - loss: 1.0998 - acc: 0.6230 - val_loss: 1.4563 - val_acc: 0.4926\n",
      "Epoch 20/50\n",
      "50000/50000 [==============================] - 1s 27us/step - loss: 1.0799 - acc: 0.6306 - val_loss: 1.4439 - val_acc: 0.4997\n",
      "Epoch 21/50\n",
      "50000/50000 [==============================] - 1s 26us/step - loss: 1.0585 - acc: 0.6378 - val_loss: 1.4441 - val_acc: 0.4982\n",
      "Epoch 22/50\n",
      "50000/50000 [==============================] - 1s 27us/step - loss: 1.0378 - acc: 0.6464 - val_loss: 1.4480 - val_acc: 0.4944\n",
      "Epoch 23/50\n",
      "50000/50000 [==============================] - 1s 26us/step - loss: 1.0161 - acc: 0.6555 - val_loss: 1.4417 - val_acc: 0.5050\n",
      "Epoch 24/50\n",
      "50000/50000 [==============================] - 1s 26us/step - loss: 0.9951 - acc: 0.6633 - val_loss: 1.4440 - val_acc: 0.5037\n",
      "Epoch 25/50\n",
      "50000/50000 [==============================] - 1s 26us/step - loss: 0.9764 - acc: 0.6708 - val_loss: 1.4628 - val_acc: 0.4974\n",
      "Epoch 26/50\n",
      "50000/50000 [==============================] - 1s 26us/step - loss: 0.9552 - acc: 0.6796 - val_loss: 1.4455 - val_acc: 0.4998\n",
      "Epoch 27/50\n",
      "50000/50000 [==============================] - 1s 26us/step - loss: 0.9367 - acc: 0.6878 - val_loss: 1.4483 - val_acc: 0.5035\n",
      "Epoch 28/50\n",
      "50000/50000 [==============================] - 1s 26us/step - loss: 0.9167 - acc: 0.6951 - val_loss: 1.4649 - val_acc: 0.5001\n",
      "Epoch 29/50\n",
      "50000/50000 [==============================] - 1s 26us/step - loss: 0.8944 - acc: 0.7051 - val_loss: 1.4703 - val_acc: 0.5019\n",
      "Epoch 30/50\n",
      "50000/50000 [==============================] - 1s 27us/step - loss: 0.8765 - acc: 0.7117 - val_loss: 1.4697 - val_acc: 0.5002\n",
      "Epoch 31/50\n",
      "50000/50000 [==============================] - 1s 26us/step - loss: 0.8584 - acc: 0.7178 - val_loss: 1.4705 - val_acc: 0.4941\n",
      "Epoch 32/50\n",
      "50000/50000 [==============================] - ETA: 0s - loss: 0.8405 - acc: 0.725 - 1s 27us/step - loss: 0.8404 - acc: 0.7253 - val_loss: 1.4793 - val_acc: 0.4978\n",
      "Epoch 33/50\n",
      "50000/50000 [==============================] - 1s 26us/step - loss: 0.8188 - acc: 0.7332 - val_loss: 1.4840 - val_acc: 0.4982\n",
      "Epoch 34/50\n",
      "50000/50000 [==============================] - 1s 26us/step - loss: 0.8005 - acc: 0.7402 - val_loss: 1.4956 - val_acc: 0.5003\n",
      "Epoch 35/50\n",
      "50000/50000 [==============================] - 1s 26us/step - loss: 0.7814 - acc: 0.7467 - val_loss: 1.4931 - val_acc: 0.4979\n",
      "Epoch 36/50\n",
      "50000/50000 [==============================] - 1s 27us/step - loss: 0.7634 - acc: 0.7550 - val_loss: 1.5043 - val_acc: 0.4995\n",
      "Epoch 37/50\n",
      "50000/50000 [==============================] - 1s 26us/step - loss: 0.7421 - acc: 0.7660 - val_loss: 1.5012 - val_acc: 0.4961\n",
      "Epoch 38/50\n",
      "50000/50000 [==============================] - 1s 26us/step - loss: 0.7245 - acc: 0.7707 - val_loss: 1.5079 - val_acc: 0.5036\n",
      "Epoch 39/50\n",
      "50000/50000 [==============================] - 1s 26us/step - loss: 0.7071 - acc: 0.7773 - val_loss: 1.5169 - val_acc: 0.5025\n",
      "Epoch 40/50\n",
      "50000/50000 [==============================] - 1s 26us/step - loss: 0.6882 - acc: 0.7853 - val_loss: 1.5529 - val_acc: 0.4907\n",
      "Epoch 41/50\n",
      "50000/50000 [==============================] - 1s 27us/step - loss: 0.6694 - acc: 0.7916 - val_loss: 1.5610 - val_acc: 0.4982\n",
      "Epoch 42/50\n",
      "50000/50000 [==============================] - 1s 26us/step - loss: 0.6539 - acc: 0.7995 - val_loss: 1.5485 - val_acc: 0.5015\n",
      "Epoch 43/50\n",
      "50000/50000 [==============================] - 1s 27us/step - loss: 0.6361 - acc: 0.8050 - val_loss: 1.5627 - val_acc: 0.5032\n",
      "Epoch 44/50\n",
      "50000/50000 [==============================] - 1s 27us/step - loss: 0.6168 - acc: 0.8144 - val_loss: 1.5631 - val_acc: 0.4957\n",
      "Epoch 45/50\n",
      "50000/50000 [==============================] - 1s 26us/step - loss: 0.6013 - acc: 0.8201 - val_loss: 1.5836 - val_acc: 0.4943\n",
      "Epoch 46/50\n",
      "50000/50000 [==============================] - 1s 27us/step - loss: 0.5830 - acc: 0.8261 - val_loss: 1.5929 - val_acc: 0.4941\n",
      "Epoch 47/50\n",
      "50000/50000 [==============================] - 1s 27us/step - loss: 0.5665 - acc: 0.8324 - val_loss: 1.6081 - val_acc: 0.5025\n",
      "Epoch 48/50\n",
      "50000/50000 [==============================] - 1s 26us/step - loss: 0.5483 - acc: 0.8402 - val_loss: 1.6304 - val_acc: 0.4950\n",
      "Epoch 49/50\n"
     ]
    },
    {
     "name": "stdout",
     "output_type": "stream",
     "text": [
      "50000/50000 [==============================] - 1s 26us/step - loss: 0.5322 - acc: 0.8451 - val_loss: 1.6395 - val_acc: 0.4929\n",
      "Epoch 50/50\n",
      "50000/50000 [==============================] - 1s 26us/step - loss: 0.5172 - acc: 0.8503 - val_loss: 1.6265 - val_acc: 0.4955\n",
      "_________________________________________________________________\n",
      "Layer (type)                 Output Shape              Param #   \n",
      "=================================================================\n",
      "input_1 (InputLayer)         (None, 3072)              0         \n",
      "_________________________________________________________________\n",
      "hidden_layer1 (Dense)        (None, 512)               1573376   \n",
      "_________________________________________________________________\n",
      "batch_normalization_1 (Batch (None, 512)               2048      \n",
      "_________________________________________________________________\n",
      "hidden_layer2 (Dense)        (None, 256)               131328    \n",
      "_________________________________________________________________\n",
      "batch_normalization_2 (Batch (None, 256)               1024      \n",
      "_________________________________________________________________\n",
      "hidden_layer3 (Dense)        (None, 128)               32896     \n",
      "_________________________________________________________________\n",
      "batch_normalization_3 (Batch (None, 128)               512       \n",
      "_________________________________________________________________\n",
      "output (Dense)               (None, 10)                1290      \n",
      "=================================================================\n",
      "Total params: 1,742,474\n",
      "Trainable params: 1,740,682\n",
      "Non-trainable params: 1,792\n",
      "_________________________________________________________________\n",
      "Train on 50000 samples, validate on 10000 samples\n",
      "Epoch 1/50\n",
      "50000/50000 [==============================] - 2s 35us/step - loss: 2.1974 - acc: 0.2747 - val_loss: 2.1315 - val_acc: 0.3193\n",
      "Epoch 2/50\n",
      "50000/50000 [==============================] - 1s 26us/step - loss: 1.7441 - acc: 0.3947 - val_loss: 1.8287 - val_acc: 0.3747\n",
      "Epoch 3/50\n",
      "50000/50000 [==============================] - 1s 26us/step - loss: 1.6180 - acc: 0.4350 - val_loss: 1.7144 - val_acc: 0.4019\n",
      "Epoch 4/50\n",
      "50000/50000 [==============================] - 1s 26us/step - loss: 1.5462 - acc: 0.4590 - val_loss: 1.6310 - val_acc: 0.4289\n",
      "Epoch 5/50\n",
      "50000/50000 [==============================] - 1s 26us/step - loss: 1.4905 - acc: 0.4784 - val_loss: 1.6081 - val_acc: 0.4360\n",
      "Epoch 6/50\n",
      "50000/50000 [==============================] - 1s 26us/step - loss: 1.4440 - acc: 0.4951 - val_loss: 1.5739 - val_acc: 0.4512\n",
      "Epoch 7/50\n",
      "50000/50000 [==============================] - 1s 27us/step - loss: 1.4050 - acc: 0.5089 - val_loss: 1.5533 - val_acc: 0.4532\n",
      "Epoch 8/50\n",
      "50000/50000 [==============================] - 1s 26us/step - loss: 1.3692 - acc: 0.5218 - val_loss: 1.5262 - val_acc: 0.4620\n",
      "Epoch 9/50\n",
      "50000/50000 [==============================] - 1s 26us/step - loss: 1.3361 - acc: 0.5354 - val_loss: 1.5188 - val_acc: 0.4710\n",
      "Epoch 10/50\n",
      "50000/50000 [==============================] - 1s 26us/step - loss: 1.3072 - acc: 0.5445 - val_loss: 1.5028 - val_acc: 0.4709\n",
      "Epoch 11/50\n",
      "50000/50000 [==============================] - 1s 26us/step - loss: 1.2783 - acc: 0.5564 - val_loss: 1.5036 - val_acc: 0.4729\n",
      "Epoch 12/50\n",
      "50000/50000 [==============================] - 1s 26us/step - loss: 1.2530 - acc: 0.5649 - val_loss: 1.4815 - val_acc: 0.4769\n",
      "Epoch 13/50\n",
      "50000/50000 [==============================] - 1s 27us/step - loss: 1.2263 - acc: 0.5739 - val_loss: 1.4820 - val_acc: 0.4799\n",
      "Epoch 14/50\n",
      "50000/50000 [==============================] - 1s 26us/step - loss: 1.2011 - acc: 0.5841 - val_loss: 1.4854 - val_acc: 0.4789\n",
      "Epoch 15/50\n",
      "50000/50000 [==============================] - 1s 26us/step - loss: 1.1785 - acc: 0.5923 - val_loss: 1.4717 - val_acc: 0.4868\n",
      "Epoch 16/50\n",
      "50000/50000 [==============================] - 1s 26us/step - loss: 1.1546 - acc: 0.6013 - val_loss: 1.4720 - val_acc: 0.4843\n",
      "Epoch 17/50\n",
      "50000/50000 [==============================] - 1s 26us/step - loss: 1.1323 - acc: 0.6091 - val_loss: 1.4611 - val_acc: 0.4881\n",
      "Epoch 18/50\n",
      "50000/50000 [==============================] - 1s 26us/step - loss: 1.1106 - acc: 0.6181 - val_loss: 1.4552 - val_acc: 0.4916\n",
      "Epoch 19/50\n",
      "50000/50000 [==============================] - 1s 26us/step - loss: 1.0874 - acc: 0.6263 - val_loss: 1.4644 - val_acc: 0.4875\n",
      "Epoch 20/50\n",
      "50000/50000 [==============================] - 1s 26us/step - loss: 1.0674 - acc: 0.6347 - val_loss: 1.4638 - val_acc: 0.4878\n",
      "Epoch 21/50\n",
      "50000/50000 [==============================] - 1s 26us/step - loss: 1.0427 - acc: 0.6445 - val_loss: 1.4525 - val_acc: 0.4931\n",
      "Epoch 22/50\n",
      "50000/50000 [==============================] - 1s 26us/step - loss: 1.0218 - acc: 0.6523 - val_loss: 1.4627 - val_acc: 0.4883\n",
      "Epoch 23/50\n",
      "50000/50000 [==============================] - 1s 26us/step - loss: 1.0043 - acc: 0.6607 - val_loss: 1.4628 - val_acc: 0.4950\n",
      "Epoch 24/50\n",
      "50000/50000 [==============================] - 1s 26us/step - loss: 0.9847 - acc: 0.6652 - val_loss: 1.4619 - val_acc: 0.4918\n",
      "Epoch 25/50\n",
      "50000/50000 [==============================] - 1s 26us/step - loss: 0.9636 - acc: 0.6757 - val_loss: 1.4622 - val_acc: 0.4921\n",
      "Epoch 26/50\n",
      "50000/50000 [==============================] - 1s 26us/step - loss: 0.9416 - acc: 0.6855 - val_loss: 1.4636 - val_acc: 0.4954\n",
      "Epoch 27/50\n",
      "50000/50000 [==============================] - 1s 26us/step - loss: 0.9226 - acc: 0.6903 - val_loss: 1.4601 - val_acc: 0.4968\n",
      "Epoch 28/50\n",
      "50000/50000 [==============================] - 1s 26us/step - loss: 0.9023 - acc: 0.6998 - val_loss: 1.4829 - val_acc: 0.4908\n",
      "Epoch 29/50\n",
      "50000/50000 [==============================] - 1s 27us/step - loss: 0.8832 - acc: 0.7078 - val_loss: 1.4765 - val_acc: 0.4995\n",
      "Epoch 30/50\n",
      "50000/50000 [==============================] - 1s 26us/step - loss: 0.8634 - acc: 0.7148 - val_loss: 1.4735 - val_acc: 0.4946\n",
      "Epoch 31/50\n",
      "50000/50000 [==============================] - 1s 27us/step - loss: 0.8434 - acc: 0.7245 - val_loss: 1.4914 - val_acc: 0.4935\n",
      "Epoch 32/50\n",
      "50000/50000 [==============================] - 1s 26us/step - loss: 0.8258 - acc: 0.7303 - val_loss: 1.5118 - val_acc: 0.4921\n",
      "Epoch 33/50\n",
      "50000/50000 [==============================] - 1s 26us/step - loss: 0.8063 - acc: 0.7376 - val_loss: 1.4946 - val_acc: 0.4922\n",
      "Epoch 34/50\n",
      "50000/50000 [==============================] - 1s 27us/step - loss: 0.7861 - acc: 0.7460 - val_loss: 1.5067 - val_acc: 0.4964\n",
      "Epoch 35/50\n",
      "50000/50000 [==============================] - 1s 26us/step - loss: 0.7683 - acc: 0.7532 - val_loss: 1.5028 - val_acc: 0.4968\n",
      "Epoch 36/50\n",
      "50000/50000 [==============================] - 1s 26us/step - loss: 0.7490 - acc: 0.7601 - val_loss: 1.5096 - val_acc: 0.4957\n",
      "Epoch 37/50\n",
      "50000/50000 [==============================] - 1s 26us/step - loss: 0.7303 - acc: 0.7684 - val_loss: 1.5380 - val_acc: 0.4924\n",
      "Epoch 38/50\n",
      "50000/50000 [==============================] - 1s 26us/step - loss: 0.7113 - acc: 0.7775 - val_loss: 1.5295 - val_acc: 0.4934\n",
      "Epoch 39/50\n",
      "50000/50000 [==============================] - 1s 26us/step - loss: 0.6945 - acc: 0.7821 - val_loss: 1.5482 - val_acc: 0.4930\n",
      "Epoch 40/50\n",
      "50000/50000 [==============================] - 1s 26us/step - loss: 0.6740 - acc: 0.7925 - val_loss: 1.5665 - val_acc: 0.4891\n",
      "Epoch 41/50\n",
      "50000/50000 [==============================] - 1s 26us/step - loss: 0.6594 - acc: 0.7961 - val_loss: 1.5749 - val_acc: 0.4907\n",
      "Epoch 42/50\n",
      "50000/50000 [==============================] - 1s 27us/step - loss: 0.6400 - acc: 0.8043 - val_loss: 1.5601 - val_acc: 0.4967\n",
      "Epoch 43/50\n",
      "50000/50000 [==============================] - 1s 26us/step - loss: 0.6219 - acc: 0.8124 - val_loss: 1.5712 - val_acc: 0.4943\n",
      "Epoch 44/50\n",
      "50000/50000 [==============================] - 1s 27us/step - loss: 0.6031 - acc: 0.8206 - val_loss: 1.5897 - val_acc: 0.4920\n",
      "Epoch 45/50\n",
      "50000/50000 [==============================] - 1s 26us/step - loss: 0.5873 - acc: 0.8262 - val_loss: 1.6038 - val_acc: 0.4936\n",
      "Epoch 46/50\n",
      "50000/50000 [==============================] - 1s 26us/step - loss: 0.5697 - acc: 0.8348 - val_loss: 1.6186 - val_acc: 0.4898\n",
      "Epoch 47/50\n",
      "50000/50000 [==============================] - 1s 27us/step - loss: 0.5517 - acc: 0.8395 - val_loss: 1.6200 - val_acc: 0.4934\n",
      "Epoch 48/50\n"
     ]
    },
    {
     "name": "stdout",
     "output_type": "stream",
     "text": [
      "50000/50000 [==============================] - 1s 27us/step - loss: 0.5354 - acc: 0.8470 - val_loss: 1.6488 - val_acc: 0.4906\n",
      "Epoch 49/50\n",
      "50000/50000 [==============================] - 1s 26us/step - loss: 0.5202 - acc: 0.8519 - val_loss: 1.6686 - val_acc: 0.4815\n",
      "Epoch 50/50\n",
      "50000/50000 [==============================] - 1s 26us/step - loss: 0.5037 - acc: 0.8591 - val_loss: 1.6601 - val_acc: 0.4930\n"
     ]
    }
   ],
   "source": [
    "# 載入 Callbacks\n",
    "\n",
    "SAVE_BEST = [True, False]\n",
    "FILEPATH = [\"./tmp_save_best_true.h5\", \"./tmp_save_best_false.h5\"]\n",
    "results = {}\n",
    "#loss_loadback = []\n",
    "#acc_loadback = []\n",
    "\n",
    "for i, save_best in enumerate(SAVE_BEST):\n",
    "    keras.backend.clear_session() # 把舊的 Graph 清掉\n",
    "    \n",
    "    model_ckpt = ModelCheckpoint(filepath=FILEPATH[i], \n",
    "                                 monitor=\"val_loss\", \n",
    "                                 save_best_only=save_best,\n",
    "                                 save_weights_only=True)\n",
    "\n",
    "    model = build_mlp(input_shape=x_train.shape[1:])\n",
    "    model.summary()\n",
    "    optimizer = keras.optimizers.SGD(lr=LEARNING_RATE, nesterov=True, momentum=MOMENTUM)\n",
    "    model.compile(loss=\"categorical_crossentropy\", metrics=[\"accuracy\"], optimizer=optimizer)\n",
    "\n",
    "    model.fit(x_train, y_train, \n",
    "              epochs=EPOCHS, \n",
    "              batch_size=BATCH_SIZE, \n",
    "              validation_data=(x_test, y_test), \n",
    "              shuffle=True,\n",
    "              callbacks=[model_ckpt]\n",
    "             )\n",
    "\n",
    "    # Collect results\n",
    "    train_loss = model.history.history[\"loss\"]\n",
    "    valid_loss = model.history.history[\"val_loss\"]\n",
    "    train_acc = model.history.history[\"acc\"]\n",
    "    valid_acc = model.history.history[\"val_acc\"]\n",
    "    \n",
    "    exp_tag_name = \"Save_best_only - %s\" % str(save_best)\n",
    "    results[exp_tag_name] = {'train-loss': train_loss,\n",
    "                             'valid-loss': valid_loss,\n",
    "                             'train-acc': train_acc,\n",
    "                             'valid-acc': valid_acc}\n",
    "\n",
    "    # Load back\n",
    "#    model_reload = keras.models.load_model(FILEPATH[i])\n",
    "#    loss_loadback_v, acc_loadback_v = model_reload.evaluate(x_test, y_test)\n",
    "#    loss_loadback.append(loss_loadback_v)\n",
    "#    acc_loadback.append(acc_loadback_v)"
   ]
  },
  {
   "cell_type": "code",
   "execution_count": 8,
   "metadata": {
    "scrolled": true
   },
   "outputs": [
    {
     "data": {
      "image/png": "[encoded data removed]",
      "text/plain": [
       "<Figure size 576x432 with 1 Axes>"
      ]
     },
     "metadata": {
      "needs_background": "light"
     },
     "output_type": "display_data"
    },
    {
     "data": {
      "image/png": "[encoded data removed]",
      "text/plain": [
       "<Figure size 576x432 with 1 Axes>"
      ]
     },
     "metadata": {
      "needs_background": "light"
     },
     "output_type": "display_data"
    }
   ],
   "source": [
    "import matplotlib.pyplot as plt\n",
    "%matplotlib inline\n",
    "\"\"\"Code Here\n",
    "將結果繪出\n",
    "\"\"\"\n",
    "color_bar = [\"r\", \"g\", \"b\", \"y\", \"m\", \"k\"]\n",
    "\n",
    "plt.figure(figsize=(8,6))\n",
    "for i, cond in enumerate(results.keys()):\n",
    "    plt.plot(range(len(results[cond]['train-loss'])), results[cond]['train-loss'], \"-\", label=cond, color=color_bar[i])\n",
    "    plt.plot(range(len(results[cond]['valid-loss'])), results[cond]['valid-loss'], \"--\", label=cond, color=color_bar[i])\n",
    "#    plt.hlines(y=loss_loadback[i], xmin=0, xmax=len(train_loss), colors=color_bar[i+2], linestyles='--')\n",
    "plt.title(\"Loss\")\n",
    "plt.legend()\n",
    "plt.show()\n",
    "\n",
    "plt.figure(figsize=(8,6))\n",
    "for i, cond in enumerate(results.keys()):\n",
    "    plt.plot(range(len(results[cond][\"train-acc\"])), results[cond][\"train-acc\"], \"-\", label=cond, color=color_bar[i])\n",
    "    plt.plot(range(len(results[cond][\"valid-acc\"])), results[cond][\"valid-acc\"], \"--\", label=cond, color=color_bar[i])\n",
    "#    plt.hlines(y=acc_loadback[i], xmin=0, xmax=len(train_loss), colors=color_bar[i+4], linestyles='--')\n",
    "plt.title(\"Accuracy\")\n",
    "plt.legend()\n",
    "plt.show()"
   ]
  },
  {
   "cell_type": "code",
   "execution_count": 9,
   "metadata": {},
   "outputs": [],
   "source": [
    "model_1 = build_mlp(input_shape=x_train.shape[1:])\n",
    "model_1.load_weights(FILEPATH[0])\n",
    "pred_y = model_1.predict(x_test)"
   ]
  },
  {
   "cell_type": "code",
   "execution_count": 10,
   "metadata": {},
   "outputs": [
    {
     "data": {
      "text/plain": [
       "array([[1.34774195e-02, 1.31748095e-01, 1.88979134e-02, ...,\n",
       "        1.39332023e-02, 1.16823979e-01, 7.28285452e-03],\n",
       "       [4.42894362e-02, 1.70863792e-01, 1.14681832e-02, ...,\n",
       "        3.83793289e-04, 9.50638801e-02, 6.71964049e-01],\n",
       "       [3.05742949e-01, 2.58296430e-01, 5.35484171e-03, ...,\n",
       "        6.22952683e-03, 2.03499734e-01, 2.19220027e-01],\n",
       "       ...,\n",
       "       [3.45916790e-03, 1.17371406e-03, 2.52477705e-01, ...,\n",
       "        1.53913361e-03, 2.41572782e-03, 6.74831215e-04],\n",
       "       [4.14978266e-02, 2.55040765e-01, 1.20215118e-01, ...,\n",
       "        3.19745764e-02, 4.84488858e-03, 1.73420340e-01],\n",
       "       [7.40178972e-02, 1.98070370e-02, 3.32399130e-01, ...,\n",
       "        1.89632878e-01, 4.24957909e-02, 7.23571777e-02]], dtype=float32)"
      ]
     },
     "execution_count": 10,
     "metadata": {},
     "output_type": "execute_result"
    }
   ],
   "source": [
    "pred_y"
   ]
  },
  {
   "cell_type": "code",
   "execution_count": 11,
   "metadata": {},
   "outputs": [
    {
     "data": {
      "text/plain": [
       "array([[0., 0., 0., ..., 0., 0., 0.],\n",
       "       [0., 0., 0., ..., 0., 1., 0.],\n",
       "       [0., 0., 0., ..., 0., 1., 0.],\n",
       "       ...,\n",
       "       [0., 0., 0., ..., 0., 0., 0.],\n",
       "       [0., 1., 0., ..., 0., 0., 0.],\n",
       "       [0., 0., 0., ..., 1., 0., 0.]], dtype=float32)"
      ]
     },
     "execution_count": 11,
     "metadata": {},
     "output_type": "execute_result"
    }
   ],
   "source": [
    "y_test"
   ]
  },
  {
   "cell_type": "code",
   "execution_count": 12,
   "metadata": {},
   "outputs": [
    {
     "name": "stdout",
     "output_type": "stream",
     "text": [
      "_________________________________________________________________\n",
      "Layer (type)                 Output Shape              Param #   \n",
      "=================================================================\n",
      "input_2 (InputLayer)         (None, 3072)              0         \n",
      "_________________________________________________________________\n",
      "hidden_layer1 (Dense)        (None, 512)               1573376   \n",
      "_________________________________________________________________\n",
      "batch_normalization_4 (Batch (None, 512)               2048      \n",
      "_________________________________________________________________\n",
      "hidden_layer2 (Dense)        (None, 256)               131328    \n",
      "_________________________________________________________________\n",
      "batch_normalization_5 (Batch (None, 256)               1024      \n",
      "_________________________________________________________________\n",
      "hidden_layer3 (Dense)        (None, 128)               32896     \n",
      "_________________________________________________________________\n",
      "batch_normalization_6 (Batch (None, 128)               512       \n",
      "_________________________________________________________________\n",
      "output (Dense)               (None, 10)                1290      \n",
      "=================================================================\n",
      "Total params: 1,742,474\n",
      "Trainable params: 1,740,682\n",
      "Non-trainable params: 1,792\n",
      "_________________________________________________________________\n"
     ]
    }
   ],
   "source": [
    "model_1.summary()"
   ]
  },
  {
   "cell_type": "markdown",
   "metadata": {},
   "source": [
    "### 結果討論\n",
    "\n",
    "save_best_only = True，則val_loss儲存的值為最低loss\n",
    "\n",
    "save_best_only = False，則val_loss儲存的值為最後一筆"
   ]
  },
  {
   "cell_type": "code",
   "execution_count": null,
   "metadata": {},
   "outputs": [],
   "source": []
  }
 ],
 "metadata": {
  "kernelspec": {
   "display_name": "Python 3",
   "language": "python",
   "name": "python3"
  },
  "language_info": {
   "codemirror_mode": {
    "name": "ipython",
    "version": 3
   },
   "file_extension": ".py",
   "mimetype": "text/x-python",
   "name": "python",
   "nbconvert_exporter": "python",
   "pygments_lexer": "ipython3",
   "version": "3.7.3"
  }
 },
 "nbformat": 4,
 "nbformat_minor": 2
}
