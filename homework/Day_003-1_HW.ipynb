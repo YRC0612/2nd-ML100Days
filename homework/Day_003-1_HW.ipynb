{
 "cells": [
  {
   "cell_type": "markdown",
   "metadata": {},
   "source": [
    "## 練習時間\n",
    "在小量的資料上，我們用眼睛就可以看得出來程式碼是否有跑出我們理想中的結果\n",
    "\n",
    "請嘗試想像一個你需要的資料結構 (裡面的值可以是隨機的)，然後用上述的方法把它變成 pandas DataFrame\n",
    "\n",
    "#### Ex: 想像一個 dataframe 有兩個欄位，一個是國家，一個是人口，求人口數最多的國家\n",
    "\n",
    "### Hints: [隨機產生數值](https://blog.csdn.net/christianashannon/article/details/78867204)"
   ]
  },
  {
   "cell_type": "code",
   "execution_count": 5,
   "metadata": {},
   "outputs": [],
   "source": [
    "import pandas as pd\n",
    "import numpy as np"
   ]
  },
  {
   "cell_type": "code",
   "execution_count": 28,
   "metadata": {},
   "outputs": [
    {
     "name": "stdout",
     "output_type": "stream",
     "text": [
      "          Nation  Populations\n",
      "0         Taiwan     48134578\n",
      "1  United States     88724247\n",
      "2       Thailand     56251004\n",
      "3          Japan     91359057\n",
      "4          China     74621560\n",
      "\n",
      "\n",
      "人口數最多的國家:  Japan\n"
     ]
    }
   ],
   "source": [
    "Nation = ['Taiwan','United States', 'Thailand', 'Japan', 'China']\n",
    "Populations = np.random.randint(20000000 , 100000000, 5)\n",
    "\n",
    "list_labels = ['Nation', 'Populations']\n",
    "list_cols = [Nation, Populations]\n",
    "\n",
    "zipped = list(zip(list_labels, list_cols))\n",
    "\n",
    "data = pd.DataFrame(dict(zipped))\n",
    "\n",
    "print(data)\n",
    "print(\"\\n\")\n",
    "\n",
    "index = data['Populations'].idxmax()\n",
    "print(\"人口數最多的國家: \", data.iloc[index, 0])"
   ]
  },
  {
   "cell_type": "code",
   "execution_count": null,
   "metadata": {},
   "outputs": [],
   "source": []
  }
 ],
 "metadata": {
  "kernelspec": {
   "display_name": "Python 3",
   "language": "python",
   "name": "python3"
  },
  "language_info": {
   "codemirror_mode": {
    "name": "ipython",
    "version": 3
   },
   "file_extension": ".py",
   "mimetype": "text/x-python",
   "name": "python",
   "nbconvert_exporter": "python",
   "pygments_lexer": "ipython3",
   "version": "3.7.1"
  }
 },
 "nbformat": 4,
 "nbformat_minor": 2
}
