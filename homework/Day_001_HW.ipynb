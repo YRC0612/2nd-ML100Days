{
 "cells": [
  {
   "cell_type": "markdown",
   "metadata": {},
   "source": [
    "## 作業1：\n",
    "請上 Kaggle, 在 Competitions 或 Dataset 中找一組競賽或資料並寫下：\n",
    "1.\t你選的這組資料為何重要\n",
    "\t\n",
    "\n",
    "    幫助Data scientist及生物學家預測病人心臟病的機率為何，進而分析出導致心臟病發生的可能原因，如此一來，可盡早通知那些有可能罹患心臟病的病人，即早預防與治療。\n",
    "    \n",
    "    \n",
    "2.\t資料從何而來 (tips: 譬如提供者是誰、以什麼方式蒐集)\n",
    "\n",
    "\t- Datasets provider: Ronit(https://www.kaggle.com/ronitf/datasets)\n",
    "\n",
    "\t- Datasets website: UCI Machine Learning Repository(https://archive.ics.uci.edu/ml/datasets/Heart+Disease)\n",
    "\n",
    "\n",
    "3.\t蒐集而來的資料型態為何\n",
    "\n",
    "\n",
    "       |   Column Name   |                       Details                       | dtypes  |\n",
    "      \n",
    "      \n",
    "       -----------------------------------------------------------------------------------\n",
    "       \n",
    "       |     age         |  The person's age in years                          |  int64  |\n",
    "       |     sex         |  The person's sex (1 = male, 0 = female)            |  int64  |\n",
    "       |      cp         |  The chest pain experienced                         |  int64  |\n",
    "       |    trestbps\t |  The person's resting blood pressure                |  int64  |\n",
    "       |     chol        |  The person's cholesterol measurement               |  int64  |\n",
    "       |     fbs         |  The person's fasting blood sugar                   |  int64  |\n",
    "       |    restecg      |  Resting electrocardiographic measurement           |  int64  |\n",
    "       |    thalach      |  The person's maximum heart rate achieved           |  int64  |\n",
    "       |     exang       |  Exercise induced angina (1 = yes; 0 = no)          |  int64  |\n",
    "       |    oldpeak      |  ST depression induced by exercise relative to rest | float64 |\n",
    "       |     slope       |  the slope of the peak exercise ST segment          |  int64  |\n",
    "       |      ca         |  The number of major vessels (0-3)                  |  int64  |\n",
    "       |      thal       |  A blood disorder called thalassemia                |  int64  |\n",
    "       |     target      |  Heart disease (0 = no, 1 = yes)                    |  int64  |\n",
    "\n",
    "\n",
    "    [Note]: \n",
    "    cp = {1: typical angina, 2: atypical angina, 3: non-anginal pain, 4: asymptomatic}\n",
    "    fbs = {> 120 mg/dl, 1 = true; 0 = false}\n",
    "    restecg = {0 = normal, 1 = having ST-T wave abnormality, 2 = showing probable or definite left ventricular hypertrophy by Estes' criteria}\n",
    "    slope = {1: upsloping, 2: flat, 3: downsloping}\n",
    "    thal = {3 = normal; 6 = fixed defect; 7 = reversable defect}\n",
    "    \n",
    "    \n",
    "4.\t這組資料想解決的問題如何評估\n",
    "\n",
    "    這組datasets共有303 x 14組資料，其中最後一個column為”target”，即實際案例是否有heart disease(1: yes; 0: no)，因此我們只需要藉由303 x 13 組的資料去訓練出heart disease預測model，此model最後會計算出介於0~1的預測值，來表示病人有心臟病的機率，值接近1則愈有可能罹患心臟病。\n",
    "\n"
   ]
  },
  {
   "cell_type": "markdown",
   "metadata": {},
   "source": [
    "## 作業2：\n",
    "\n",
    "\n",
    "#### 想像你經營一個自由載客車隊，你希望能透過數據分析以提升業績，請你思考並描述你如何規劃整體的分析/解決方案：\n",
    "1.\t核心問題為何 (tips：如何定義 「提升業績 & 你的假設」)\n",
    "\n",
    "    - 分析出哪個觀光景點或購物中心叫車率較高，以提升載客率\n",
    "    \n",
    "    - 假設: \n",
    "    \n",
    "        I.\t若觀光景點的停車場數量較少，則叫車機率大\n",
    "    \n",
    "        II.\t若距離大眾運輸工具的距離遙遠，則叫車機率大\n",
    "    \n",
    "        III.\t若計程車排班數量大，則叫車機率大\n",
    "    \n",
    "    \n",
    "2.\t資料從何而來 (tips：哪些資料可能會對你想問的問題產生影響 & 資料如何蒐集)\n",
    "\n",
    "    - 資料來源: 計程車公司、Uber、Google Map\n",
    "    \n",
    "    \n",
    "3.\t蒐集而來的資料型態為何\n",
    "\n",
    "    - 結構化數值資料，例如: 乘客數量、搭乘距離、計程車排班數量、觀光景點停車場位置數量、搭乘時間、景點距離大眾運輸工具的走路時間\n",
    "    \n",
    "    \n",
    "4.\t你要回答的問題，其如何評估 (tips：你的假設如何驗證)\n",
    "\n",
    "    - 可以採用MAE(Mean Absolute Error)計算每個景點的載客率排名\n"
   ]
  },
  {
   "cell_type": "markdown",
   "metadata": {},
   "source": [
    "## 作業3:\n",
    "#### 請寫一個函式用來計算 Mean Square Error\n",
    "$ MSE = \\frac{1}{n}\\sum_{i=1}^{n}{(Y_i - \\hat{Y}_i)^2} $\n",
    "\n",
    "### Hint: [如何取平方](https://googoodesign.gitbooks.io/-ezpython/unit-1.html)"
   ]
  },
  {
   "cell_type": "code",
   "execution_count": 33,
   "metadata": {},
   "outputs": [],
   "source": [
    "import numpy as np\n",
    "import matplotlib.pyplot as plt"
   ]
  },
  {
   "cell_type": "code",
   "execution_count": 34,
   "metadata": {},
   "outputs": [],
   "source": [
    "def mean_absolute_error(y, yp):\n",
    "    \"\"\"\n",
    "    計算 MAE\n",
    "    Args:\n",
    "        - y: 實際值\n",
    "        - yp: 預測值\n",
    "    Return:\n",
    "        - mae: MAE\n",
    "    \"\"\"\n",
    "    MAE = sum(abs(y - yp)) / len(y)\n",
    "    return MAE"
   ]
  },
  {
   "cell_type": "code",
   "execution_count": 35,
   "metadata": {},
   "outputs": [],
   "source": [
    "def mean_squared_error(y, yp):\n",
    "    \"\"\"\n",
    "    請完成這個 Function 後往下執行\n",
    "    \"\"\"\n",
    "    MSE = sum((y-yp)**2)/len(y)\n",
    "    return MSE"
   ]
  },
  {
   "cell_type": "code",
   "execution_count": 36,
   "metadata": {},
   "outputs": [
    {
     "data": {
      "image/png": "[encoded data removed]",
      "text/plain": [
       "<Figure size 432x288 with 1 Axes>"
      ]
     },
     "metadata": {
      "needs_background": "light"
     },
     "output_type": "display_data"
    }
   ],
   "source": [
    "w = 3\n",
    "b = 0.5\n",
    "\n",
    "x_lin = np.linspace(0, 100, 101)\n",
    "\n",
    "y = (x_lin + np.random.randn(101) * 5) * w + b\n",
    "\n",
    "plt.plot(x_lin, y, 'b.', label = 'data points')\n",
    "plt.title(\"Assume we have data points\")\n",
    "plt.legend(loc = 2)\n",
    "plt.show()"
   ]
  },
  {
   "cell_type": "code",
   "execution_count": 37,
   "metadata": {},
   "outputs": [
    {
     "data": {
      "image/png": "[encoded data removed]",
      "text/plain": [
       "<Figure size 432x288 with 1 Axes>"
      ]
     },
     "metadata": {
      "needs_background": "light"
     },
     "output_type": "display_data"
    }
   ],
   "source": [
    "y_hat = x_lin * w + b\n",
    "plt.plot(x_lin, y, 'b.', label = 'data')\n",
    "plt.plot(x_lin, y_hat, 'r-', label = 'prediction')\n",
    "plt.title(\"Assume we have data points (And the prediction)\")\n",
    "plt.legend(loc = 2)\n",
    "plt.show()"
   ]
  },
  {
   "cell_type": "code",
   "execution_count": 38,
   "metadata": {},
   "outputs": [
    {
     "name": "stdout",
     "output_type": "stream",
     "text": [
      "The Mean squared error is 200.577\n",
      "The Mean absolute error is 10.919\n"
     ]
    }
   ],
   "source": [
    "# 執行 Function, 確認有沒有正常執行\n",
    "MSE = mean_squared_error(y, y_hat)\n",
    "MAE = mean_absolute_error(y, y_hat)\n",
    "print(\"The Mean squared error is %.3f\" % (MSE))\n",
    "print(\"The Mean absolute error is %.3f\" % (MAE))"
   ]
  }
 ],
 "metadata": {
  "anaconda-cloud": {},
  "kernelspec": {
   "display_name": "Python 3",
   "language": "python",
   "name": "python3"
  },
  "language_info": {
   "codemirror_mode": {
    "name": "ipython",
    "version": 3
   },
   "file_extension": ".py",
   "mimetype": "text/x-python",
   "name": "python",
   "nbconvert_exporter": "python",
   "pygments_lexer": "ipython3",
   "version": "3.7.1"
  }
 },
 "nbformat": 4,
 "nbformat_minor": 1
}
